{
 "cells": [
  {
   "cell_type": "markdown",
   "id": "304e7963-2f52-43d8-ad9b-25e96fb3684e",
   "metadata": {},
   "source": [
    "# Quran & Sentence Transformers\n",
    "\n",
    "What is the most common verse in Quran? To answer this question and similar others we can use sentence transformers.\n",
    "\n",
    "1. Downloaded an English Quran translation here: https://tanzil.net/trans/ -- This notebook uses [this](https://tanzil.net/trans/en.itani) --copied to `data/en.itani.txt`.\n",
    "2. Encoded all the verses with the [best performing](https://paperswithcode.com/task/semantic-textual-similarity) sentence transformer and save the embeddings: `data/en_itani.p` -- took 1 hour on my machine\n",
    "3. Calculated cosine similarities of all pairs of verses --thus got a matrix of size (6236,6236).\n",
    "4. For each verse, counted the number of verses that it is \"very similar\" to -- here, \"very similar\" means `cosine similarity >.80`.\n",
    "\n",
    "Result:\n",
    "1. The most repeated verse is about God's greatness.\n",
    "2. The second most repeated verse is about God's forgiveness."
   ]
  },
  {
   "cell_type": "code",
   "execution_count": 3,
   "id": "c0f35f2a-216a-43ab-b0b7-025c50d43f6d",
   "metadata": {},
   "outputs": [],
   "source": [
    "import pandas as pd"
   ]
  },
  {
   "cell_type": "code",
   "execution_count": 172,
   "id": "213102b7-c126-43cf-880a-f7066c395619",
   "metadata": {},
   "outputs": [
    {
     "data": {
      "text/html": [
       "<div>\n",
       "<style scoped>\n",
       "    .dataframe tbody tr th:only-of-type {\n",
       "        vertical-align: middle;\n",
       "    }\n",
       "\n",
       "    .dataframe tbody tr th {\n",
       "        vertical-align: top;\n",
       "    }\n",
       "\n",
       "    .dataframe thead th {\n",
       "        text-align: right;\n",
       "    }\n",
       "</style>\n",
       "<table border=\"1\" class=\"dataframe\">\n",
       "  <thead>\n",
       "    <tr style=\"text-align: right;\">\n",
       "      <th></th>\n",
       "      <th>chapter</th>\n",
       "      <th>verse</th>\n",
       "      <th>text</th>\n",
       "    </tr>\n",
       "  </thead>\n",
       "  <tbody>\n",
       "    <tr>\n",
       "      <th>0</th>\n",
       "      <td>1</td>\n",
       "      <td>1</td>\n",
       "      <td>In the name of God, the Gracious, the Merciful.</td>\n",
       "    </tr>\n",
       "    <tr>\n",
       "      <th>1</th>\n",
       "      <td>1</td>\n",
       "      <td>2</td>\n",
       "      <td>Praise be to God, Lord of the Worlds.</td>\n",
       "    </tr>\n",
       "    <tr>\n",
       "      <th>2</th>\n",
       "      <td>1</td>\n",
       "      <td>3</td>\n",
       "      <td>The Most Gracious, the Most Merciful.</td>\n",
       "    </tr>\n",
       "    <tr>\n",
       "      <th>3</th>\n",
       "      <td>1</td>\n",
       "      <td>4</td>\n",
       "      <td>Master of the Day of Judgment.</td>\n",
       "    </tr>\n",
       "    <tr>\n",
       "      <th>4</th>\n",
       "      <td>1</td>\n",
       "      <td>5</td>\n",
       "      <td>It is You we worship, and upon You we call for...</td>\n",
       "    </tr>\n",
       "    <tr>\n",
       "      <th>...</th>\n",
       "      <td>...</td>\n",
       "      <td>...</td>\n",
       "      <td>...</td>\n",
       "    </tr>\n",
       "    <tr>\n",
       "      <th>6231</th>\n",
       "      <td>114</td>\n",
       "      <td>2</td>\n",
       "      <td>The King of mankind.</td>\n",
       "    </tr>\n",
       "    <tr>\n",
       "      <th>6232</th>\n",
       "      <td>114</td>\n",
       "      <td>3</td>\n",
       "      <td>The God of mankind.</td>\n",
       "    </tr>\n",
       "    <tr>\n",
       "      <th>6233</th>\n",
       "      <td>114</td>\n",
       "      <td>4</td>\n",
       "      <td>From the evil of the sneaky whisperer.</td>\n",
       "    </tr>\n",
       "    <tr>\n",
       "      <th>6234</th>\n",
       "      <td>114</td>\n",
       "      <td>5</td>\n",
       "      <td>Who whispers into the hearts of people.</td>\n",
       "    </tr>\n",
       "    <tr>\n",
       "      <th>6235</th>\n",
       "      <td>114</td>\n",
       "      <td>6</td>\n",
       "      <td>From among jinn and among people.”</td>\n",
       "    </tr>\n",
       "  </tbody>\n",
       "</table>\n",
       "<p>6236 rows × 3 columns</p>\n",
       "</div>"
      ],
      "text/plain": [
       "      chapter  verse                                               text\n",
       "0           1      1    In the name of God, the Gracious, the Merciful.\n",
       "1           1      2              Praise be to God, Lord of the Worlds.\n",
       "2           1      3              The Most Gracious, the Most Merciful.\n",
       "3           1      4                     Master of the Day of Judgment.\n",
       "4           1      5  It is You we worship, and upon You we call for...\n",
       "...       ...    ...                                                ...\n",
       "6231      114      2                               The King of mankind.\n",
       "6232      114      3                                The God of mankind.\n",
       "6233      114      4             From the evil of the sneaky whisperer.\n",
       "6234      114      5            Who whispers into the hearts of people.\n",
       "6235      114      6                 From among jinn and among people.”\n",
       "\n",
       "[6236 rows x 3 columns]"
      ]
     },
     "execution_count": 172,
     "metadata": {},
     "output_type": "execute_result"
    }
   ],
   "source": [
    "# read in the quran translation\n",
    "df = pd.read_csv('data/en.itani.txt',\n",
    "                 sep='|',comment='#',\n",
    "                 names=['chapter','verse','text'])\n",
    "df"
   ]
  },
  {
   "cell_type": "code",
   "execution_count": 12,
   "id": "a9266e2e-7691-41c1-8fb3-25f029f919cc",
   "metadata": {},
   "outputs": [
    {
     "name": "stderr",
     "output_type": "stream",
     "text": [
      "100%|███████████████████████████████████████████████████████████████████████████████████████████████████████████████████████████████████████████████████████████████████| 100/100 [1:03:31<00:00, 38.11s/it]\n"
     ]
    }
   ],
   "source": [
    "# This cell is needed to create the embeddings\n",
    "# you don't need to run this since I made the output available in the repo.\n",
    "# from simcse import SimCSE\n",
    "# sentence_model = SimCSE('princeton-nlp/sup-simcse-roberta-large')\n",
    "# embeddings = sentence_model.encode(df['text'].tolist())\n",
    "# pd.to_pickle(embeddings,'data/en_itani.p')"
   ]
  },
  {
   "cell_type": "code",
   "execution_count": 169,
   "id": "5cfbd344-dcbd-46cc-893c-c4969d34fe70",
   "metadata": {},
   "outputs": [],
   "source": [
    "# read the embedddings\n",
    "embeddings = pd.read_pickle('data/en_itani.p')"
   ]
  },
  {
   "cell_type": "code",
   "execution_count": 62,
   "id": "d86cd251-9e75-446c-98cc-aae4457cdd25",
   "metadata": {},
   "outputs": [],
   "source": [
    "import torch.nn.functional as F\n",
    "def cos_sim(a,b):\n",
    "    return F.normalize(a) @ F.normalize(b).t()\n",
    "sims = cos_sim(embeddings,embeddings)"
   ]
  },
  {
   "cell_type": "code",
   "execution_count": 171,
   "id": "0051a2b7-6fa0-417d-9d5f-f1d5a1a8b65b",
   "metadata": {},
   "outputs": [],
   "source": [
    "df['sim_sum'] = sims.sum(dim=1).numpy()"
   ]
  },
  {
   "cell_type": "code",
   "execution_count": 81,
   "id": "b8223a91-9b4c-4927-9aa0-faeac9ce01dc",
   "metadata": {},
   "outputs": [],
   "source": [
    "values, indices = sims.fill_diagonal_(0).max(dim=1)\n",
    "df['most_sim_ind'] = indices.numpy()\n",
    "df['most_sim_val'] = values.numpy()\n",
    "df['most_sim'] = df['most_sim_ind'].map(df['text'])"
   ]
  },
  {
   "cell_type": "code",
   "execution_count": 168,
   "id": "223e781e-a7b1-41c5-94d9-5cb13a7de190",
   "metadata": {},
   "outputs": [
    {
     "name": "stdout",
     "output_type": "stream",
     "text": [
      "Such is God, your Lord. There is no god except He, the Creator of all things; so worship Him. He is responsible for everything.\n",
      "# of similar verses: 54\n",
      "\n",
      "Whoever commits evil, or wrongs his soul, then implores God for forgiveness, will find God Forgiving and Merciful.\n",
      "# of similar verses: 39\n",
      "\n",
      "God has promised those who believe and work righteousness: they will have forgiveness and a great reward.\n",
      "# of similar verses: 34\n",
      "\n",
      "Except for those who repent, and believe, and do good deeds. These—God will replace their bad deeds with good deeds. God is ever Forgiving and Merciful.\n",
      "# of similar verses: 34\n",
      "\n",
      "He is God; besides Whom there is no god; the Sovereign, the Holy, the Peace-Giver, the Faith-Giver, the Overseer, the Almighty, the Omnipotent, the Overwhelming. Glory be to God, beyond what they associate.\n",
      "# of similar verses: 33\n",
      "\n"
     ]
    }
   ],
   "source": [
    "df['sim_count']=(sims>.8).sum(dim=1).numpy()\n",
    "for _,row in df.sort_values('sim_count',ascending=False).head().iterrows():\n",
    "    print(row['text'])\n",
    "    print('# of similar verses:',row['sim_count'])\n",
    "    print()"
   ]
  },
  {
   "cell_type": "code",
   "execution_count": 148,
   "id": "9dc8a2de-6dc1-496f-bee3-25c53d563555",
   "metadata": {},
   "outputs": [
    {
     "data": {
      "text/html": [
       "<div>\n",
       "<style scoped>\n",
       "    .dataframe tbody tr th:only-of-type {\n",
       "        vertical-align: middle;\n",
       "    }\n",
       "\n",
       "    .dataframe tbody tr th {\n",
       "        vertical-align: top;\n",
       "    }\n",
       "\n",
       "    .dataframe thead th {\n",
       "        text-align: right;\n",
       "    }\n",
       "</style>\n",
       "<table border=\"1\" class=\"dataframe\">\n",
       "  <thead>\n",
       "    <tr style=\"text-align: right;\">\n",
       "      <th></th>\n",
       "      <th>verse</th>\n",
       "      <th>chapter</th>\n",
       "      <th>text</th>\n",
       "      <th>sim_sum</th>\n",
       "      <th>most_sim_ind</th>\n",
       "      <th>most_sim_val</th>\n",
       "      <th>most_sim</th>\n",
       "      <th>sim_count</th>\n",
       "    </tr>\n",
       "  </thead>\n",
       "  <tbody>\n",
       "    <tr>\n",
       "      <th>890</th>\n",
       "      <td>102</td>\n",
       "      <td>6</td>\n",
       "      <td>Such is God, your Lord. There is no god except...</td>\n",
       "      <td>1902.067383</td>\n",
       "      <td>4119</td>\n",
       "      <td>0.904311</td>\n",
       "      <td>God is the Creator of all things, and He is in...</td>\n",
       "      <td>54</td>\n",
       "    </tr>\n",
       "    <tr>\n",
       "      <th>602</th>\n",
       "      <td>110</td>\n",
       "      <td>4</td>\n",
       "      <td>Whoever commits evil, or wrongs his soul, then...</td>\n",
       "      <td>2133.013916</td>\n",
       "      <td>707</td>\n",
       "      <td>0.912778</td>\n",
       "      <td>But whoever repents after his crime, and refor...</td>\n",
       "      <td>39</td>\n",
       "    </tr>\n",
       "    <tr>\n",
       "      <th>677</th>\n",
       "      <td>9</td>\n",
       "      <td>5</td>\n",
       "      <td>God has promised those who believe and work ri...</td>\n",
       "      <td>2309.167969</td>\n",
       "      <td>349</td>\n",
       "      <td>0.874379</td>\n",
       "      <td>And as for those who believe and do good works...</td>\n",
       "      <td>34</td>\n",
       "    </tr>\n",
       "    <tr>\n",
       "      <th>2924</th>\n",
       "      <td>70</td>\n",
       "      <td>25</td>\n",
       "      <td>Except for those who repent, and believe, and ...</td>\n",
       "      <td>2192.769043</td>\n",
       "      <td>2795</td>\n",
       "      <td>0.939720</td>\n",
       "      <td>Except for those who repent afterwards, and re...</td>\n",
       "      <td>34</td>\n",
       "    </tr>\n",
       "    <tr>\n",
       "      <th>5148</th>\n",
       "      <td>23</td>\n",
       "      <td>59</td>\n",
       "      <td>He is God; besides Whom there is no god; the S...</td>\n",
       "      <td>1949.536499</td>\n",
       "      <td>890</td>\n",
       "      <td>0.877157</td>\n",
       "      <td>Such is God, your Lord. There is no god except...</td>\n",
       "      <td>33</td>\n",
       "    </tr>\n",
       "  </tbody>\n",
       "</table>\n",
       "</div>"
      ],
      "text/plain": [
       "      verse  chapter                                               text  \\\n",
       "890     102        6  Such is God, your Lord. There is no god except...   \n",
       "602     110        4  Whoever commits evil, or wrongs his soul, then...   \n",
       "677       9        5  God has promised those who believe and work ri...   \n",
       "2924     70       25  Except for those who repent, and believe, and ...   \n",
       "5148     23       59  He is God; besides Whom there is no god; the S...   \n",
       "\n",
       "          sim_sum  most_sim_ind  most_sim_val  \\\n",
       "890   1902.067383          4119      0.904311   \n",
       "602   2133.013916           707      0.912778   \n",
       "677   2309.167969           349      0.874379   \n",
       "2924  2192.769043          2795      0.939720   \n",
       "5148  1949.536499           890      0.877157   \n",
       "\n",
       "                                               most_sim  sim_count  \n",
       "890   God is the Creator of all things, and He is in...         54  \n",
       "602   But whoever repents after his crime, and refor...         39  \n",
       "677   And as for those who believe and do good works...         34  \n",
       "2924  Except for those who repent afterwards, and re...         34  \n",
       "5148  Such is God, your Lord. There is no god except...         33  "
      ]
     },
     "execution_count": 148,
     "metadata": {},
     "output_type": "execute_result"
    }
   ],
   "source": [
    "df.sort_values('sim_count',ascending=False).head()"
   ]
  },
  {
   "cell_type": "code",
   "execution_count": 167,
   "id": "794169f9-81ec-4295-bbb7-989a86e21e08",
   "metadata": {},
   "outputs": [
    {
     "name": "stdout",
     "output_type": "stream",
     "text": [
      "['To God belong the East and the West. Whichever way you turn, there is God’s presence. God is Omnipresent and Omniscient.', 'And they say, “God has begotten a son.” Be He glorified. Rather, His is everything in the heavens and the earth; all are obedient to Him.', 'Your God is one God. There is no god but He, the Benevolent, the Compassionate.', 'God! There is no god except He, the Living, the Everlasting. Neither slumber overtakes Him, nor sleep. To Him belongs everything in the heavens and everything on earth. Who is he that can intercede with Him except with His permission? He knows what is before them, and what is behind them; and they cannot grasp any of His knowledge, except as He wills. His Throne extends over the heavens and the earth, and their preservation does not burden Him. He is the Most High, the Great.', 'To God belongs everything in the heavens and the earth. Whether you reveal what is within your selves, or conceal it, God will call you to account for it. He forgives whom He wills, and He punishes whom He wills. God is Able to do all things.', 'God, there is no god but He, the Living, the Eternal.', 'It is He who forms you in the wombs as He wills. There is no god except He, the Almighty, the Wise.', 'God bears witness that there is no god but He, as do the angels, and those endowed with knowledge—upholding justice. There is no god but He, the Mighty, the Wise.', 'This is the narrative of truth: there is no god but God. God is the Mighty, the Wise.', 'To God belongs everything in the heavens and everything on earth, and to God all events are referred.', 'To God belongs everything in the heavens and the earth. He forgives whom He wills, and He punishes whom He wills. God is Most Forgiving, Most Merciful.', 'To God belongs the sovereignty of the heavens and the earth. God has power over all things.', 'God—there is no god except He. He will gather you to the Day of Resurrection, in which there is no doubt. And who speaks more truly than God?', 'To God belongs what is in the heavens and what is on earth, and God encompasses everything.', 'To God belongs everything in the heavens and everything on earth. God suffices as Manager.', 'Do you not know that to God belongs the kingdom of the heavens and the earth? He punishes whom He wills, and He forgives whom He wills. And God is Capable of everything.', 'To God belongs the sovereignty of the heavens and the earth and what lies in them, and He has power over everything.', '“To God is your return, and He is Capable of all things.”', 'To God belongs the future of the heavens and the earth, and to Him all authority goes back. So worship Him, and rely on Him. Your Lord is never unaware of what you do.', 'Your Lord is the All-Knowing Creator.', 'To Him belongs everything in the heavens and the earth, and everything between them, and everything beneath the soil.', 'Surely your god is God, the One besides whom there is no other god. He comprehends everything in knowledge.', 'That is because God is the truth, and because He gives life to the dead, and because He is Capable of everything.', 'To Him belongs everything in the heavens and everything on earth. God is the Rich, the Praised.', 'So Exalted is God, the Ruler, the Real. There is no god except He, the Lord of the Noble Throne.', 'To God belongs the dominion of the heavens and the earth, and to God is the ultimate return.', 'God—There is no god but He, the Lord of the Sublime Throne.”', 'And He is God. There is no god but He. To Him belongs all praise in this life, and in the next. And His is the decision, and to Him you will be returned.', 'God is He who created you, then provides for you, then makes you die, then brings you back to life. Can any of your idols do any of that? Glorified is He, and Exalted above what they associate.', 'To God belongs everything in the heavens and the earth. God is the Rich, the Praised.', 'God is He who created the heavens and the earth and everything between them in six days, and then established Himself on the Throne. Apart from Him, you have no master and no intercessor. Will you not reflect?', 'Praise be to God, to Whom belongs everything in the heavens and the earth; and praise be to Him in the Hereafter. He is the Wise, the Expert.', 'Praise be to God, Originator of the heavens and the earth, Maker of the angels messengers with wings—double, triple, and quadruple. He adds to creation as He wills. God is Able to do all things.', 'Your God is indeed One.', 'God is the Creator of all things, and He is in Charge of all things.', 'Such is God, your Lord, Creator of all things. There is no god except Him; so how could you turn away?', 'He is the Living One. There is no god except He. So pray to Him, devoting your religion to Him. Praise be to God, the Lord of the Worlds.', 'The path of God, to whom belongs everything in the heavens and everything on earth. Indeed, to God all matters revert.', 'It is He who is God in heaven, and God on earth. He is the Wise, the Knower.', 'There is no god but He. He gives life and causes death—your Lord and Lord of your ancestors of old.', 'Glorifying God is everything in the heavens and the earth. He is the Almighty, the Wise.', 'To Him belongs the kingship of the heavens and the earth, and to God all matters are referred.', 'Glorifying God is all that exists in the heavens and the earth. He is the Almighty, the Most Wise.', 'He is God. There is no god but He, the Knower of secrets and declarations. He is the Compassionate, the Merciful.', 'He is God; besides Whom there is no god; the Sovereign, the Holy, the Peace-Giver, the Faith-Giver, the Overseer, the Almighty, the Omnipotent, the Overwhelming. Glory be to God, beyond what they associate.', 'He is God; the Creator, the Maker, the Designer. His are the Most Beautiful Names. Whatever is in the heavens and the earth glorifies Him. He is the Majestic, the Wise.', 'Everything in the heavens and the earth praises God. He is the Almighty, the Wise.', 'Everything in the heavens and the earth glorifies God the Sovereign, the Holy, the Almighty, the Wise.', 'Everything in the heavens and the earth praises God. To Him belongs the Kingdom, and to Him all praise is due, and He is Able to do all things.', 'God, there is no god but He; and in God let the believers put their trust.', 'Lord of the East and the West. There is no god but He, so take Him as a Trustee.', 'To Whom belongs the sovereignty of the heavens and the earth. God is witness over everything.', 'Say, “He is God, the One.', 'The God of mankind.']\n"
     ]
    }
   ],
   "source": [
    "print(df[(sims[890]>.8).numpy()]['text'].tolist())"
   ]
  },
  {
   "cell_type": "code",
   "execution_count": 160,
   "id": "0cf502ce-0282-4ab7-ad06-94919ba0b711",
   "metadata": {},
   "outputs": [
    {
     "name": "stdout",
     "output_type": "stream",
     "text": [
      "['Then disperse from where the people disperse, and ask God for forgiveness. God is Most Forgiving, Most Merciful.', \"Those who believed, and those who migrated and fought for the sake of God-those look forward to God's mercy. God is Forgiving and Merciful.\", 'Say, \"If you love God, then follow me, and God will love you, and will forgive you your sins.\" God is Forgiving and Merciful.', 'He specifies His mercy for whomever He wills. God is Possessor of Sublime Grace.', 'Except those who repent afterwards, and reform; for God is Forgiving and Merciful.', 'And those who, when they commit an indecency or wrong themselves, remember God and ask forgiveness for their sins-and who forgives sins except God? And they do not persist in their wrongdoing while they know.', 'Repentance is available from God for those who commit evil out of ignorance, and then repent soon after. These-God will relent towards them. God is Knowing and Wise.', 'Degrees from Him, and forgiveness, and mercy. God is Forgiving and Merciful.', 'These-God may well pardon them. God is Pardoning and Forgiving.', 'And ask God for forgiveness. God is Forgiver and Merciful.', 'If you let a good deed be shown, or conceal it, or pardon an offense-God is Pardoning and Capable.', 'As for those who believe in God and His messengers, and make no distinction between any of them-He will give them their rewards. God is Forgiver and Merciful.', 'Except for those who repent before you apprehend them. So know that God is Forgiving and Merciful.', 'But whoever repents after his crime, and reforms, God will accept his repentance. God is Forgiving and Merciful.', 'Will they not repent to God and ask His forgiveness? God is Forgiving and Merciful.', 'When those who believe in Our revelations come to you, say, \"Peace be upon you, your Lord has prescribed mercy for Himself. Whoever among you does wrong out of ignorance, and then repents afterwards and reforms-He is Forgiving and Merciful.\"', \"And do not corrupt on earth after its reformation, and pray to Him with fear and hope. God's mercy is close to the doers of good.\", 'As for those who commit sins, and then repent afterwards and believe-your Lord, thereafter, is Forgiving and Merciful.', 'O you who believe! If you remain conscious of God, He will give you a criterion, and will remit from you your sins, and will forgive you. God is possessor of infinite grace.', 'And He will remove the anger of their hearts. God redeems whomever He wills. God is Knowledgeable and Wise.', 'Then, after that, God will relent towards whomever He wills. God is Forgiving and Merciful.', 'There is no blame on the weak, nor on the sick, nor on those who have nothing to give, provided they are true to God and His Messenger. In no way can the righteous be blamed. God is Forgiving and Merciful.', 'Others have confessed their sins, having mixed good deeds with bad deeds. Perhaps God will redeem them. God is Forgiving and Merciful.', 'If God afflicts you with harm, none can remove it except He. And if He wants good for you, none can repel His grace. He makes it reach whomever He wills of His servants. He is the Forgiver, the Merciful.', '\"And ask your Lord for forgiveness, and repent to Him. My Lord is Merciful and Loving.\"', 'He said, \"There is no blame upon you today. God will forgive you. He is the Most Merciful of the merciful.\"', 'He said, \"I will ask my Lord to forgive you. He is the Forgiver, the Most Merciful.\"', 'But towards those who do wrongs in ignorance, and then repent afterwards and reform, your Lord thereafter is Forgiving and Merciful.', 'That is so! Whoever retaliates similarly to the affliction he was made to suffer, and then he is wronged again, God will definitely assist him. God is Pardoning and Forgiving.', 'Except for those who repent afterwards, and reform; for God is Forgiving and Merciful.', \"Were it not for God's grace upon you, and His mercy, and that God is Conciliatory and Wise.\", \"Were it not for God's grace upon you, and His mercy, and that God is Clement and Merciful.\", 'Except for those who repent, and believe, and do good deeds. These-God will replace their bad deeds with good deeds. God is ever Forgiving and Merciful.', 'He said, \"My Lord, I have wronged myself, so forgive me.\" So He forgave him. He is the Forgiver, the Merciful.', 'That God may reward the truthful for their truthfulness; and punish the hypocrites, if He wills, or pardon them. God is Forgiving and Merciful.', 'God will punish the hypocrites, men and women, and the idolaters, men and women. And God will redeem the believers, men and women. God is Ever-Forgiving, Most Merciful.', 'Say, \"O My servants who have transgressed against themselves: do not despair of God\\'s mercy, for God forgives all sins. He is indeed the Forgiver, the Clement.\"', 'That God may forgive you your sin, past and to come, and complete His favors upon you, and guide you in a straight path.', 'And He is the Forgiving, the Loving.']\n"
     ]
    }
   ],
   "source": [
    "print(df[(sims[602]>.8).numpy()]['text'].tolist())"
   ]
  }
 ],
 "metadata": {
  "kernelspec": {
   "display_name": "Python 3 (ipykernel)",
   "language": "python",
   "name": "python3"
  },
  "language_info": {
   "codemirror_mode": {
    "name": "ipython",
    "version": 3
   },
   "file_extension": ".py",
   "mimetype": "text/x-python",
   "name": "python",
   "nbconvert_exporter": "python",
   "pygments_lexer": "ipython3",
   "version": "3.9.1"
  }
 },
 "nbformat": 4,
 "nbformat_minor": 5
}
